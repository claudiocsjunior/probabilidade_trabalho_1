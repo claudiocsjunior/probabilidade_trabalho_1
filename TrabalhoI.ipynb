{
 "cells": [
  {
   "cell_type": "markdown",
   "metadata": {},
   "source": [
    "## IMD0033 - Probabilidade\n",
    "\n",
    "# Trabalho I \n",
    "\n",
    "Este trabalho servirá como avaliação dos conteúdos relacionados a Estatística Descritiva.\n",
    "\n",
    "Data de entrega: Até 23:59 do dia 17/04\n",
    "\n",
    "Forma de entrega: Via SIGAA na forma de um jupyter notebook ou na forma de um documento em um editor de texto.\n",
    "\n",
    "### Questão 1 (2 pontos)\n",
    "\n",
    "Defina com suas palavras e de forma sucinta os termos abaixo:\n",
    "\n",
    "a) População"
   ]
  },
  {
   "cell_type": "markdown",
   "metadata": {},
   "source": [
    "Respota:"
   ]
  },
  {
   "cell_type": "markdown",
   "metadata": {},
   "source": [
    "b) Amostra"
   ]
  },
  {
   "cell_type": "markdown",
   "metadata": {},
   "source": [
    "Respota:"
   ]
  },
  {
   "cell_type": "markdown",
   "metadata": {},
   "source": [
    "c) Conceito (em um desenho experimental)"
   ]
  },
  {
   "cell_type": "markdown",
   "metadata": {},
   "source": [
    "Resposta:"
   ]
  },
  {
   "cell_type": "markdown",
   "metadata": {},
   "source": [
    "d) Definição operacional"
   ]
  },
  {
   "cell_type": "markdown",
   "metadata": {},
   "source": [
    "Resposta:"
   ]
  },
  {
   "cell_type": "markdown",
   "metadata": {},
   "source": [
    "e) Experimento controlado"
   ]
  },
  {
   "cell_type": "markdown",
   "metadata": {},
   "source": [
    "Resposta:"
   ]
  },
  {
   "cell_type": "markdown",
   "metadata": {},
   "source": [
    "f) Desvio"
   ]
  },
  {
   "cell_type": "markdown",
   "metadata": {},
   "source": [
    "Resposta:"
   ]
  },
  {
   "cell_type": "markdown",
   "metadata": {},
   "source": [
    "g) Correção de Bessel"
   ]
  },
  {
   "cell_type": "markdown",
   "metadata": {},
   "source": [
    "Resposta:"
   ]
  },
  {
   "cell_type": "markdown",
   "metadata": {},
   "source": [
    "h) Outlier"
   ]
  },
  {
   "cell_type": "markdown",
   "metadata": {},
   "source": [
    "Resposta:"
   ]
  },
  {
   "cell_type": "markdown",
   "metadata": {},
   "source": [
    "### Questão 2 (2 pontos)\n",
    "\n",
    "Reflita sobre as seguintes afirmações, indique se é verdadeiro ou falso e justifique:\n",
    "\n",
    "a) Se o desvio padrão de um conjunto de dados é 0, podemos certamente afirmar que os dados encontram-se dispersos próximos da média."
   ]
  },
  {
   "cell_type": "markdown",
   "metadata": {},
   "source": [
    "Resposta:"
   ]
  },
  {
   "cell_type": "markdown",
   "metadata": {},
   "source": [
    "b) A covariância é a média do quadrado dos desvios."
   ]
  },
  {
   "cell_type": "markdown",
   "metadata": {},
   "source": [
    "Resposta:"
   ]
  },
  {
   "cell_type": "markdown",
   "metadata": {},
   "source": [
    "c) Quando transformamos os dados através do z-score, a moda dos dados transformados é sempre 0."
   ]
  },
  {
   "cell_type": "markdown",
   "metadata": {},
   "source": [
    "Resposta:"
   ]
  },
  {
   "cell_type": "markdown",
   "metadata": {},
   "source": [
    "d) Ao analisar a correlação entre duas variáveis, se verificarmos uma correlação de 0.9, o que é considerada alta, não podemos afirmar que a variável dependente é a causa da variação nos valores da variável independente."
   ]
  },
  {
   "cell_type": "markdown",
   "metadata": {},
   "source": [
    "Resposta:"
   ]
  },
  {
   "cell_type": "markdown",
   "metadata": {},
   "source": [
    "### Questão 3 (6 pontos)\n",
    "\n",
    "Baixe o arquivo que se encontram neste [link](CO2_emission.txt). Este arquivo contém dados de emissão de CO2 em kT (quilotonelada) emitido pelos países ao longo no período de 2000 a 2014. Desconsiderando aqueles países que apresentam valores faltantes (\"..\"), responda:\n",
    "\n",
    "a) Qual foi o país que mais emitiu CO2 ao longo destes anos?"
   ]
  },
  {
   "cell_type": "code",
   "execution_count": 9,
   "metadata": {
    "scrolled": false
   },
   "outputs": [
    {
     "name": "stdout",
     "output_type": "stream",
     "text": [
      "China\n"
     ]
    }
   ],
   "source": [
    "import pandas as pd\n",
    "import numpy as np\n",
    "\n",
    "emissorCO2Data = pd.read_csv('CO2_emission.txt', sep='\\t')\n",
    "#apaga linhas com valores null\n",
    "emissorCO2Data.dropna(inplace=True)\n",
    "\n",
    "#retira espaços com 2 pontos\n",
    "emissorCO2Data = emissorCO2Data.loc[(emissorCO2Data['2000 [YR2000]']!= \"..\" ) & (emissorCO2Data['2001 [YR2001]']!= \"..\" )& (emissorCO2Data[\"2002 [YR2002]\"] != \"..\")& (emissorCO2Data[\"2003 [YR2003]\"] != \"..\")& (emissorCO2Data[\"2004 [YR2004]\"] != \"..\")& (emissorCO2Data[\"2005 [YR2005]\"] != \"..\")& (emissorCO2Data[\"2006 [YR2006]\"] != \"..\")& (emissorCO2Data[\"2008 [YR2008]\"] != \"..\")& (emissorCO2Data[\"2009 [YR2009]\"] != \"..\")& (emissorCO2Data[\"2010 [YR2010]\"] != \"..\")& (emissorCO2Data[\"2011 [YR2011]\"] != \"..\")& (emissorCO2Data[\"2012 [YR2012]\"] != \"..\")& (emissorCO2Data[\"2013 [YR2013]\"] != \"..\")& (emissorCO2Data[\"2014 [YR2014]\"] != \"..\")]\n",
    "\n",
    "camposImportantes = list(emissorCO2Data.columns.values)\n",
    "camposImportantes.remove('Series Code')\n",
    "camposImportantes.remove('Series Name')\n",
    "camposImportantes.remove('Country Code')\n",
    "\n",
    "anos = camposImportantes\n",
    "anos.remove('Country Name')\n",
    "\n",
    "#busca país com maior soma\n",
    "linhaComMaiorSoma = 0\n",
    "maiorSoma = 0\n",
    "for i in range(len(emissorCO2Data)): #para cada pais\n",
    "    soma = 0\n",
    "    linhaNumpy = np.array(emissorCO2Data.iloc[i][anos])\n",
    "    linhaNumpyFloat = linhaNumpy.astype(np.float)\n",
    "    soma = linhaNumpyFloat.sum()\n",
    "    if(soma > maiorSoma):\n",
    "        maiorSoma = soma\n",
    "        linhaComMaiorSoma = i\n",
    "\n",
    "print(emissorCO2Data.iloc[linhaComMaiorSoma]['Country Name'])"
   ]
  },
  {
   "cell_type": "markdown",
   "metadata": {},
   "source": [
    "b) Qual foi o país que teve a menor média da taxa de emissão de CO2 ao longo destes anos?"
   ]
  },
  {
   "cell_type": "code",
   "execution_count": 8,
   "metadata": {},
   "outputs": [
    {
     "name": "stdout",
     "output_type": "stream",
     "text": [
      "Afghanistan\n"
     ]
    }
   ],
   "source": [
    "#busca país com maior média\n",
    "linhaComMenorMedia = 0\n",
    "menorMedia = 0\n",
    "for i in range(len(emissorCO2Data)): #para cada pais\n",
    "    media = 0\n",
    "    linhaNumpy = np.array(emissorCO2Data.iloc[i][anos])\n",
    "    linhaNumpyFloat = linhaNumpy.astype(np.float)\n",
    "    media = linhaNumpyFloat.mean()\n",
    "    if(media < menorMedia):\n",
    "        menorMedia = media\n",
    "        linhaComMenorMedia = i\n",
    "\n",
    "print(emissorCO2Data.iloc[linhaComMenorMedia]['Country Name'])"
   ]
  },
  {
   "cell_type": "markdown",
   "metadata": {},
   "source": [
    "c) Quantos países conseguiram diminuir a emissão de CO2 durante este período? Em outras palavras, quantos países tiveram sua taxa média de emissão de CO2 menor que 1?"
   ]
  },
  {
   "cell_type": "code",
   "execution_count": 132,
   "metadata": {},
   "outputs": [
    {
     "data": {
      "text/html": [
       "<div>\n",
       "<style scoped>\n",
       "    .dataframe tbody tr th:only-of-type {\n",
       "        vertical-align: middle;\n",
       "    }\n",
       "\n",
       "    .dataframe tbody tr th {\n",
       "        vertical-align: top;\n",
       "    }\n",
       "\n",
       "    .dataframe thead th {\n",
       "        text-align: right;\n",
       "    }\n",
       "</style>\n",
       "<table border=\"1\" class=\"dataframe\">\n",
       "  <thead>\n",
       "    <tr style=\"text-align: right;\">\n",
       "      <th></th>\n",
       "      <th>Países</th>\n",
       "    </tr>\n",
       "  </thead>\n",
       "  <tbody>\n",
       "    <tr>\n",
       "      <th>0</th>\n",
       "      <td>Andorra</td>\n",
       "    </tr>\n",
       "    <tr>\n",
       "      <th>1</th>\n",
       "      <td>Aruba</td>\n",
       "    </tr>\n",
       "    <tr>\n",
       "      <th>2</th>\n",
       "      <td>Austria</td>\n",
       "    </tr>\n",
       "    <tr>\n",
       "      <th>3</th>\n",
       "      <td>Belgium</td>\n",
       "    </tr>\n",
       "    <tr>\n",
       "      <th>4</th>\n",
       "      <td>Bulgaria</td>\n",
       "    </tr>\n",
       "    <tr>\n",
       "      <th>5</th>\n",
       "      <td>Croatia</td>\n",
       "    </tr>\n",
       "    <tr>\n",
       "      <th>6</th>\n",
       "      <td>Cyprus</td>\n",
       "    </tr>\n",
       "    <tr>\n",
       "      <th>7</th>\n",
       "      <td>Czech Republic</td>\n",
       "    </tr>\n",
       "    <tr>\n",
       "      <th>8</th>\n",
       "      <td>Denmark</td>\n",
       "    </tr>\n",
       "    <tr>\n",
       "      <th>9</th>\n",
       "      <td>Faroe Islands</td>\n",
       "    </tr>\n",
       "    <tr>\n",
       "      <th>10</th>\n",
       "      <td>Finland</td>\n",
       "    </tr>\n",
       "    <tr>\n",
       "      <th>11</th>\n",
       "      <td>France</td>\n",
       "    </tr>\n",
       "    <tr>\n",
       "      <th>12</th>\n",
       "      <td>Germany</td>\n",
       "    </tr>\n",
       "    <tr>\n",
       "      <th>13</th>\n",
       "      <td>Greece</td>\n",
       "    </tr>\n",
       "    <tr>\n",
       "      <th>14</th>\n",
       "      <td>Greenland</td>\n",
       "    </tr>\n",
       "    <tr>\n",
       "      <th>15</th>\n",
       "      <td>Hungary</td>\n",
       "    </tr>\n",
       "    <tr>\n",
       "      <th>16</th>\n",
       "      <td>Iceland</td>\n",
       "    </tr>\n",
       "    <tr>\n",
       "      <th>17</th>\n",
       "      <td>Ireland</td>\n",
       "    </tr>\n",
       "    <tr>\n",
       "      <th>18</th>\n",
       "      <td>Italy</td>\n",
       "    </tr>\n",
       "    <tr>\n",
       "      <th>19</th>\n",
       "      <td>Jamaica</td>\n",
       "    </tr>\n",
       "    <tr>\n",
       "      <th>20</th>\n",
       "      <td>Japan</td>\n",
       "    </tr>\n",
       "    <tr>\n",
       "      <th>21</th>\n",
       "      <td>Korea, Dem. People’s Rep.</td>\n",
       "    </tr>\n",
       "    <tr>\n",
       "      <th>22</th>\n",
       "      <td>Macao SAR, China</td>\n",
       "    </tr>\n",
       "    <tr>\n",
       "      <th>23</th>\n",
       "      <td>Macedonia, FYR</td>\n",
       "    </tr>\n",
       "    <tr>\n",
       "      <th>24</th>\n",
       "      <td>Nauru</td>\n",
       "    </tr>\n",
       "    <tr>\n",
       "      <th>25</th>\n",
       "      <td>Netherlands</td>\n",
       "    </tr>\n",
       "    <tr>\n",
       "      <th>26</th>\n",
       "      <td>Poland</td>\n",
       "    </tr>\n",
       "    <tr>\n",
       "      <th>27</th>\n",
       "      <td>Portugal</td>\n",
       "    </tr>\n",
       "    <tr>\n",
       "      <th>28</th>\n",
       "      <td>Romania</td>\n",
       "    </tr>\n",
       "    <tr>\n",
       "      <th>29</th>\n",
       "      <td>Seychelles</td>\n",
       "    </tr>\n",
       "    <tr>\n",
       "      <th>30</th>\n",
       "      <td>Slovak Republic</td>\n",
       "    </tr>\n",
       "    <tr>\n",
       "      <th>31</th>\n",
       "      <td>Slovenia</td>\n",
       "    </tr>\n",
       "    <tr>\n",
       "      <th>32</th>\n",
       "      <td>Spain</td>\n",
       "    </tr>\n",
       "    <tr>\n",
       "      <th>33</th>\n",
       "      <td>Suriname</td>\n",
       "    </tr>\n",
       "    <tr>\n",
       "      <th>34</th>\n",
       "      <td>Sweden</td>\n",
       "    </tr>\n",
       "    <tr>\n",
       "      <th>35</th>\n",
       "      <td>Switzerland</td>\n",
       "    </tr>\n",
       "    <tr>\n",
       "      <th>36</th>\n",
       "      <td>Syrian Arab Republic</td>\n",
       "    </tr>\n",
       "    <tr>\n",
       "      <th>37</th>\n",
       "      <td>Ukraine</td>\n",
       "    </tr>\n",
       "    <tr>\n",
       "      <th>38</th>\n",
       "      <td>United Kingdom</td>\n",
       "    </tr>\n",
       "    <tr>\n",
       "      <th>39</th>\n",
       "      <td>United States</td>\n",
       "    </tr>\n",
       "    <tr>\n",
       "      <th>40</th>\n",
       "      <td>Uzbekistan</td>\n",
       "    </tr>\n",
       "    <tr>\n",
       "      <th>41</th>\n",
       "      <td>Zimbabwe</td>\n",
       "    </tr>\n",
       "  </tbody>\n",
       "</table>\n",
       "</div>"
      ],
      "text/plain": [
       "                       Países\n",
       "0                     Andorra\n",
       "1                       Aruba\n",
       "2                     Austria\n",
       "3                     Belgium\n",
       "4                    Bulgaria\n",
       "5                     Croatia\n",
       "6                      Cyprus\n",
       "7              Czech Republic\n",
       "8                     Denmark\n",
       "9               Faroe Islands\n",
       "10                    Finland\n",
       "11                     France\n",
       "12                    Germany\n",
       "13                     Greece\n",
       "14                  Greenland\n",
       "15                    Hungary\n",
       "16                    Iceland\n",
       "17                    Ireland\n",
       "18                      Italy\n",
       "19                    Jamaica\n",
       "20                      Japan\n",
       "21  Korea, Dem. People’s Rep.\n",
       "22           Macao SAR, China\n",
       "23             Macedonia, FYR\n",
       "24                      Nauru\n",
       "25                Netherlands\n",
       "26                     Poland\n",
       "27                   Portugal\n",
       "28                    Romania\n",
       "29                 Seychelles\n",
       "30            Slovak Republic\n",
       "31                   Slovenia\n",
       "32                      Spain\n",
       "33                   Suriname\n",
       "34                     Sweden\n",
       "35                Switzerland\n",
       "36       Syrian Arab Republic\n",
       "37                    Ukraine\n",
       "38             United Kingdom\n",
       "39              United States\n",
       "40                 Uzbekistan\n",
       "41                   Zimbabwe"
      ]
     },
     "execution_count": 132,
     "metadata": {},
     "output_type": "execute_result"
    }
   ],
   "source": [
    "#buscar países com taxa média menor que 1\n",
    "listaPaises = []\n",
    "for i in range(len(emissorCO2Data)): #para cada pais\n",
    "    linhaNumpy = np.array(emissorCO2Data.iloc[i][anos])\n",
    "    linhaNumpyFloat = linhaNumpy.astype(np.float)\n",
    "    lista = []\n",
    "    for j in range(len(linhaNumpyFloat)-1):\n",
    "        #print(i)\n",
    "        lista.append(linhaNumpyFloat[j+1] / linhaNumpyFloat[j])\n",
    "\n",
    "    produtoLista = np.prod(lista)\n",
    "    resultado = produtoLista ** (1 / (len(lista)))      \n",
    "    if(resultado < 1):\n",
    "        listaPaises.append(emissorCO2Data.iloc[i]['Country Name'])\n",
    "\n",
    "data = {}\n",
    "data[\"Países\"] = listaPaises        \n",
    "        \n",
    "listaPaisesPd = pd.DataFrame(data)\n",
    "listaPaisesPd"
   ]
  },
  {
   "cell_type": "markdown",
   "metadata": {},
   "source": [
    "d) Qual é a taxa média de emissão de CO2 do Brasil ao longo destes anos?"
   ]
  },
  {
   "cell_type": "code",
   "execution_count": 145,
   "metadata": {},
   "outputs": [
    {
     "name": "stdout",
     "output_type": "stream",
     "text": [
      "1.0348470342467841\n"
     ]
    }
   ],
   "source": [
    "brasilNumpy = np.array(emissorCO2Data.loc[(emissorCO2Data['Country Name'] == \"Brazil\")][anos])\n",
    "brasilNumpyFloat = brasilNumpy.astype(np.float)\n",
    "# testeAplicacao = [[100, 150, 75]];\n",
    "taxaMediaBrasileira = 0\n",
    "lista = []\n",
    "for i in range(len(brasilNumpyFloat[0])-1):\n",
    "    #print(brasilNumpyFloat[0][i+1] / brasilNumpyFloat[0][i])\n",
    "    lista.append(brasilNumpyFloat[0][i+1] / brasilNumpyFloat[0][i])\n",
    "\n",
    "produtoLista = np.prod(lista)\n",
    "taxaMediaBrasileira = produtoLista ** (1 / (len(lista)))      \n",
    "print(taxaMediaBrasileira)\n"
   ]
  },
  {
   "attachments": {
    "image.png": {
     "image/png": "[encoded data removed]"
    }
   },
   "cell_type": "markdown",
   "metadata": {},
   "source": [
    "e) A taxa média de emissão de CO2 entre os países segue aproximadamente uma distribuição normal como mostra o gráfico abaixo. Dos países que estamos analisando, quantos deles possuem a taxa média maior que a taxa média brasileira? \n",
    "\n",
    "![image.png](attachment:image.png)"
   ]
  },
  {
   "cell_type": "code",
   "execution_count": 147,
   "metadata": {},
   "outputs": [
    {
     "data": {
      "text/plain": [
       "79"
      ]
     },
     "execution_count": 147,
     "metadata": {},
     "output_type": "execute_result"
    }
   ],
   "source": [
    "#busca país com maior média\n",
    "listaPaises = []\n",
    "for i in range(len(emissorCO2Data)): #para cada pais\n",
    "    linhaNumpy = np.array(emissorCO2Data.iloc[i][anos])\n",
    "    linhaNumpyFloat = linhaNumpy.astype(np.float)\n",
    "    lista = []\n",
    "    for j in range(len(linhaNumpyFloat)-1):\n",
    "        #print(i)\n",
    "        lista.append(linhaNumpyFloat[j+1] / linhaNumpyFloat[j])\n",
    "\n",
    "    produtoLista = np.prod(lista)\n",
    "    resultado = produtoLista ** (1 / (len(lista)))      \n",
    "    if(resultado > taxaMediaBrasileira):\n",
    "        listaPaises.append(emissorCO2Data.iloc[i]['Country Name'])\n",
    "\n",
    "len(listaPaises)\n",
    "\n",
    "# print(emissorCO2Data.iloc[linhaComMenorMedia]['Country Name'])"
   ]
  },
  {
   "attachments": {
    "image.png": {
     "image/png": "[encoded data removed]"
    }
   },
   "cell_type": "markdown",
   "metadata": {},
   "source": [
    "f) A Noruega é um dos países que vem fazendo esforço para diminuir a emissão de CO2. Abaixo se encontra o gráfico que demonstra a quantidade de CO2 emitido por este país ao longo do período apresentado pelos dados. Tendo em mente este padrão de emissão de CO2 da Noruega, qual o país que possui um padrão de emissão de CO2 mais similar ao padrão da Noruega? Plote um gráfico que consiga demonstrar a semelhança dos padrões de emissão de CO2 entre os dois países. Plote também no mesmo gráfico o padrão de emissão de CO2 do país que seja menos similar ao padrão da Noruega.]\n",
    "\n",
    "\n",
    "![image.png](attachment:image.png)"
   ]
  },
  {
   "cell_type": "code",
   "execution_count": null,
   "metadata": {},
   "outputs": [],
   "source": []
  }
 ],
 "metadata": {
  "kernelspec": {
   "display_name": "Python 3",
   "language": "python",
   "name": "python3"
  },
  "language_info": {
   "codemirror_mode": {
    "name": "ipython",
    "version": 3
   },
   "file_extension": ".py",
   "mimetype": "text/x-python",
   "name": "python",
   "nbconvert_exporter": "python",
   "pygments_lexer": "ipython3",
   "version": "3.7.3"
  }
 },
 "nbformat": 4,
 "nbformat_minor": 2
}
